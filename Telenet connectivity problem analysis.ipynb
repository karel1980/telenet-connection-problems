{
 "cells": [
  {
   "cell_type": "markdown",
   "metadata": {},
   "source": [
    "Input data represents 1 ping to 8.8.8.8 performed every minute, 24/7\n",
    "\n",
    "This notebook collects and transforms data to present periods of failing pings, which represent downtime, or at least degraded performance."
   ]
  },
  {
   "cell_type": "code",
   "execution_count": 1,
   "metadata": {},
   "outputs": [],
   "source": [
    "import pandas as pd\n",
    "import numpy as np\n",
    "import matplotlib.pyplot as plt\n",
    "import dataset\n",
    "import datetime\n",
    "from collections import Counter"
   ]
  },
  {
   "cell_type": "code",
   "execution_count": 2,
   "metadata": {},
   "outputs": [
    {
     "data": {
      "text/plain": [
       "591341"
      ]
     },
     "execution_count": 2,
     "metadata": {},
     "output_type": "execute_result"
    }
   ],
   "source": [
    "ds = dataset.load_dataset('googledns.log')\n",
    "len(ds)"
   ]
  },
  {
   "cell_type": "code",
   "execution_count": 3,
   "metadata": {},
   "outputs": [
    {
     "name": "stdout",
     "output_type": "stream",
     "text": [
      "Successful: 587217\n",
      "Failures  : 4124\n",
      "Total     : 591341\n"
     ]
    }
   ],
   "source": [
    "success_count = sum(map(lambda datapoint: datapoint[1], ds))\n",
    "fail_count = len(list(filter(lambda datapoint: datapoint[1] == 0, ds)))\n",
    "print(\"Successful:\", success_count)\n",
    "print(\"Failures  :\", fail_count)\n",
    "print(\"Total     :\", (success_count + fail_count))"
   ]
  },
  {
   "cell_type": "code",
   "execution_count": 4,
   "metadata": {},
   "outputs": [
    {
     "name": "stdout",
     "output_type": "stream",
     "text": [
      "Estimated hour of failure: 68.73333333333333\n"
     ]
    }
   ],
   "source": [
    "# rough estimate of the number of hours of not being able to ping google\n",
    "print(\"Estimated hour of failure:\", (fail_count / 60))"
   ]
  },
  {
   "cell_type": "code",
   "execution_count": 5,
   "metadata": {},
   "outputs": [],
   "source": [
    "# Let's find when things went wrong\n",
    "\n",
    "# find points at which is_good(previous) XOR is_good(current)\n",
    "changepoints = [(0, ds[0][0], 0)]\n",
    "for i in range(len(ds) - 1):\n",
    "    data, received = ds[i]\n",
    "    if received ^ ds[i+1][1]:\n",
    "        changepoints.append((i+1, ds[i+1][0], ds[i+1][1])) #idx, timestamp, status"
   ]
  },
  {
   "cell_type": "code",
   "execution_count": 6,
   "metadata": {},
   "outputs": [],
   "source": [
    "outages = []\n",
    "for i in range(len(changepoints)):\n",
    "    idx, start, status = changepoints[i]\n",
    "    if status == 0:\n",
    "        if i+1 < len(changepoints):\n",
    "            end = changepoints[i+1][1]\n",
    "            next_idx = changepoints[i+1][0]\n",
    "        else:\n",
    "            end = datetime.datetime()\n",
    "            next_idx = -1\n",
    "        duration = (end - start)\n",
    "        outages.append((start, duration, next_idx - idx))\n",
    "\n",
    "# discard single ping failures, only use consecutive ping failures as indicator of reduced connectivity\n",
    "outages = list(filter(lambda o: o[2] > 1, outages))"
   ]
  },
  {
   "cell_type": "code",
   "execution_count": 7,
   "metadata": {},
   "outputs": [
    {
     "name": "stdout",
     "output_type": "stream",
     "text": [
      "Last 20 consecutive ping fails:\n",
      "No successful pings to 8.8.8.8 from 2021-08-06 16:22:01: 0:20:59 (# failed: 21)\n",
      "No successful pings to 8.8.8.8 from 2021-08-06 16:49:01: 0:13:00 (# failed: 13)\n",
      "No successful pings to 8.8.8.8 from 2021-08-06 17:07:01: 0:13:00 (# failed: 13)\n",
      "No successful pings to 8.8.8.8 from 2021-08-06 17:26:01: 0:33:01 (# failed: 33)\n",
      "No successful pings to 8.8.8.8 from 2021-08-09 11:46:01: 0:09:00 (# failed: 9)\n",
      "No successful pings to 8.8.8.8 from 2021-08-09 12:26:01: 0:03:00 (# failed: 3)\n",
      "No successful pings to 8.8.8.8 from 2021-08-09 22:40:01: 0:43:59 (# failed: 44)\n",
      "No successful pings to 8.8.8.8 from 2021-08-09 23:30:01: 0:48:00 (# failed: 48)\n",
      "No successful pings to 8.8.8.8 from 2021-08-10 00:26:01: 0:47:00 (# failed: 47)\n",
      "No successful pings to 8.8.8.8 from 2021-08-10 01:24:01: 0:43:00 (# failed: 43)\n",
      "No successful pings to 8.8.8.8 from 2021-08-10 02:13:01: 0:48:00 (# failed: 48)\n",
      "No successful pings to 8.8.8.8 from 2021-08-10 03:10:02: 0:44:59 (# failed: 45)\n",
      "No successful pings to 8.8.8.8 from 2021-08-10 04:10:01: 0:39:00 (# failed: 39)\n",
      "No successful pings to 8.8.8.8 from 2021-08-10 04:56:01: 0:47:00 (# failed: 47)\n",
      "No successful pings to 8.8.8.8 from 2021-08-10 05:54:01: 0:11:00 (# failed: 11)\n",
      "No successful pings to 8.8.8.8 from 2021-08-10 06:20:02: 2:17:59 (# failed: 138)\n",
      "No successful pings to 8.8.8.8 from 2021-08-11 10:10:01: 0:19:00 (# failed: 19)\n",
      "No successful pings to 8.8.8.8 from 2021-08-11 10:38:01: 0:09:00 (# failed: 9)\n",
      "No successful pings to 8.8.8.8 from 2021-08-11 10:55:01: 0:12:00 (# failed: 12)\n",
      "No successful pings to 8.8.8.8 from 2021-08-11 11:15:01: 0:36:00 (# failed: 36)\n"
     ]
    }
   ],
   "source": [
    "print(\"Last 20 consecutive ping fails:\")\n",
    "\n",
    "for outage in outages[-20:]:\n",
    "    start, duration, samples = outage\n",
    "\n",
    "    print(\"No successful pings to 8.8.8.8 from %s: %s (# failed: %s)\"%(start, duration, samples))"
   ]
  },
  {
   "cell_type": "code",
   "execution_count": 8,
   "metadata": {},
   "outputs": [
    {
     "name": "stdout",
     "output_type": "stream",
     "text": [
      "Total missed pings to 8.8.8.8 on 2020-06:   651 (10.85 hours of degraded connectivity)\n",
      "Total missed pings to 8.8.8.8 on 2020-07:    49 (0.82 hours of degraded connectivity)\n",
      "Total missed pings to 8.8.8.8 on 2020-08:  2199 (36.65 hours of degraded connectivity)\n",
      "Total missed pings to 8.8.8.8 on 2020-09:     8 (0.13 hours of degraded connectivity)\n",
      "Total missed pings to 8.8.8.8 on 2020-10:     2 (0.03 hours of degraded connectivity)\n",
      "Total missed pings to 8.8.8.8 on 2020-11:     9 (0.15 hours of degraded connectivity)\n",
      "Total missed pings to 8.8.8.8 on 2020-12:     7 (0.12 hours of degraded connectivity)\n",
      "Total missed pings to 8.8.8.8 on 2021-01:    98 (1.63 hours of degraded connectivity)\n",
      "Total missed pings to 8.8.8.8 on 2021-02:    18 (0.30 hours of degraded connectivity)\n",
      "Total missed pings to 8.8.8.8 on 2021-03:     9 (0.15 hours of degraded connectivity)\n",
      "Total missed pings to 8.8.8.8 on 2021-04:     8 (0.13 hours of degraded connectivity)\n",
      "Total missed pings to 8.8.8.8 on 2021-05:    15 (0.25 hours of degraded connectivity)\n",
      "Total missed pings to 8.8.8.8 on 2021-06:    73 (1.22 hours of degraded connectivity)\n",
      "Total missed pings to 8.8.8.8 on 2021-07:   181 (3.02 hours of degraded connectivity)\n",
      "Total missed pings to 8.8.8.8 on 2021-08:  1173 (19.55 hours of degraded connectivity)\n"
     ]
    }
   ],
   "source": [
    "outage_counter = {}\n",
    "\n",
    "for outage in outages:\n",
    "    start, duration, samples = outage\n",
    "    \n",
    "    if samples < 2: continue\n",
    "\n",
    "    year_month = \"%d-%02d\"%(start.year, start.month)\n",
    "    updated_total = outage_counter.setdefault(year_month, 0) + samples\n",
    "    outage_counter[year_month]=updated_total\n",
    "    \n",
    "for ym in sorted(outage_counter.keys()):\n",
    "    pingfails = outage_counter[ym]\n",
    "    print(\"Total missed pings to 8.8.8.8 on %s: %5d (%.2f hours of degraded connectivity)\"%(ym, pingfails, pingfails / 60))"
   ]
  }
 ],
 "metadata": {
  "kernelspec": {
   "display_name": "Python 3 (ipykernel)",
   "language": "python",
   "name": "python3"
  },
  "language_info": {
   "codemirror_mode": {
    "name": "ipython",
    "version": 3
   },
   "file_extension": ".py",
   "mimetype": "text/x-python",
   "name": "python",
   "nbconvert_exporter": "python",
   "pygments_lexer": "ipython3",
   "version": "3.9.6"
  }
 },
 "nbformat": 4,
 "nbformat_minor": 4
}
