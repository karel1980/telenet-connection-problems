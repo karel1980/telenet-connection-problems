{
 "cells": [
  {
   "cell_type": "markdown",
   "metadata": {},
   "source": [
    "Recorded ping tests: 1 per minute, single ping, to 8.8.8.8 (google dns)\n",
    "\n",
    "Data quality notes: At one point in time we had a timezone jump because the timezone was corrected on the measuring device. Timezone was recorded, but I chose to keep processing simple and ignore timezones as much as possible"
   ]
  },
  {
   "cell_type": "code",
   "execution_count": 17,
   "metadata": {},
   "outputs": [
    {
     "name": "stdout",
     "output_type": "stream",
     "text": [
      "--- 8.8.8.8 ping statistics ---\r\n",
      "1 packets transmitted, 1 received, 0% packet loss, time 0ms\r\n",
      "rtt min/avg/max/mdev = 17.268/17.268/17.268/0.000 ms\r\n",
      "Sat 01 Aug 2020 12:00:01 AM BST\r\n",
      "PING 8.8.8.8 (8.8.8.8) 56(84) bytes of data.\r\n",
      "64 bytes from 8.8.8.8: icmp_seq=1 ttl=117 time=51.9 ms\r\n",
      "\r\n",
      "--- 8.8.8.8 ping statistics ---\r\n",
      "1 packets transmitted, 1 received, 0% packet loss, time 0ms\r\n",
      "rtt min/avg/max/mdev = 51.918/51.918/51.918/0.000 ms\r\n",
      "Sat 01 Aug 2020 12:01:01 AM BST\r\n",
      "PING 8.8.8.8 (8.8.8.8) 56(84) bytes of data.\r\n",
      "64 bytes from 8.8.8.8: icmp_seq=1 ttl=117 time=19.2 ms\r\n",
      "\r\n",
      "--- 8.8.8.8 ping statistics ---\r\n",
      "1 packets transmitted, 1 received, 0% packet loss, time 0ms\r\n",
      "rtt min/avg/max/mdev = 19.151/19.151/19.151/0.000 ms\r\n",
      "Sat 01 Aug 2020 12:02:02 AM BST\r\n",
      "PING 8.8.8.8 (8.8.8.8) 56(84) bytes of data.\r\n",
      "64 bytes from 8.8.8.8: icmp_seq=1 ttl=117 time=20.1 ms\r\n"
     ]
    }
   ],
   "source": [
    "# Input file: contains output of 'date' and 'ping'\n",
    "!head -n 20 googledns.log"
   ]
  },
  {
   "cell_type": "code",
   "execution_count": 29,
   "metadata": {},
   "outputs": [],
   "source": [
    "import re\n",
    "from itertools import tee, filterfalse"
   ]
  },
  {
   "cell_type": "code",
   "execution_count": 30,
   "metadata": {},
   "outputs": [
    {
     "name": "stdout",
     "output_type": "stream",
     "text": [
      "First and last timestamp:\n",
      "Sat 01 Aug 2020 12:00:01 AM BST\n",
      "Sun 09 Aug 2020 08:59:01 PM CEST\n",
      "12719\n"
     ]
    }
   ],
   "source": [
    "lines = open('googledns.log').readlines()\n",
    "lines = [l.strip() for l in lines]\n",
    "datepattern = re.compile('.*2020.*')\n",
    "dates = list(filter(lambda line: datepattern.match(line), lines))\n",
    "print(\"First and last timestamp:\")\n",
    "print(dates[0])\n",
    "print(dates[-1])\n",
    "print(len(dates))\n",
    "\n",
    "# here you can see that TZ change mentioned at the top"
   ]
  },
  {
   "cell_type": "code",
   "execution_count": 31,
   "metadata": {},
   "outputs": [
    {
     "name": "stdout",
     "output_type": "stream",
     "text": [
      "Expected # ping tests: 12780\n",
      "Actual # ping tests: 12719\n"
     ]
    }
   ],
   "source": [
    "resultpattern = re.compile('1 packets transmitted')\n",
    "results = list(filter(lambda line: resultpattern.match(line), lines))\n",
    "print(\"Expected # ping tests:\", 60*24*8 + 60*21) # about 8 full days + 21 hours on the last date\n",
    "print(\"Actual # ping tests:\", len(results))\n",
    "\n",
    "# looks good - again, off by 60 because of the TZ change"
   ]
  },
  {
   "cell_type": "code",
   "execution_count": 32,
   "metadata": {},
   "outputs": [
    {
     "name": "stdout",
     "output_type": "stream",
     "text": [
      "Successful: 11060\n",
      "Failures  : 1659\n",
      "Total     : 12719\n"
     ]
    }
   ],
   "source": [
    "# Now let's check successful & failed pings\n",
    "def is_good(result):\n",
    "    return '1 received' in result\n",
    "def is_bad(result):\n",
    "    return '0 received' in result\n",
    "    \n",
    "success_count = len(list(filter(is_good,results)))\n",
    "fail_count = len(list(filter(is_bad,results)))\n",
    "print(\"Successful:\", success_count)\n",
    "print(\"Failures  :\", fail_count)\n",
    "print(\"Total     :\", (success_count + fail_count))"
   ]
  },
  {
   "cell_type": "code",
   "execution_count": 33,
   "metadata": {},
   "outputs": [
    {
     "name": "stdout",
     "output_type": "stream",
     "text": [
      "Estimated hour of failure: 27.65\n"
     ]
    }
   ],
   "source": [
    "# How many hours of failure is that?\n",
    "print(\"Estimated hour of failure:\", (fail_count / 60))"
   ]
  },
  {
   "cell_type": "code",
   "execution_count": 49,
   "metadata": {},
   "outputs": [],
   "source": [
    "# Let's find when things went wrong\n",
    "combined = list(zip(dates,results))\n",
    "\n",
    "# find points at which is_good(previous) XOR is_good(current)\n",
    "changepoints = [(0, dates[0], results[0])]\n",
    "for i, result in enumerate(results[:-1]):\n",
    "    if is_good(result) ^ is_good(results[i+1]):\n",
    "        changepoints.append((i+1, dates[i+1], results[i+1]))"
   ]
  },
  {
   "cell_type": "code",
   "execution_count": 50,
   "metadata": {},
   "outputs": [
    {
     "data": {
      "text/plain": [
       "[(0,\n",
       "  'Sat 01 Aug 2020 12:00:01 AM BST',\n",
       "  '1 packets transmitted, 1 received, 0% packet loss, time 0ms'),\n",
       " (303,\n",
       "  'Sat 01 Aug 2020 05:03:01 AM BST',\n",
       "  '1 packets transmitted, 0 received, 100% packet loss, time 0ms'),\n",
       " (700,\n",
       "  'Sat 01 Aug 2020 11:41:01 AM BST',\n",
       "  '1 packets transmitted, 1 received, 0% packet loss, time 0ms'),\n",
       " (898,\n",
       "  'Sat 01 Aug 2020 02:59:01 PM BST',\n",
       "  '1 packets transmitted, 0 received, 100% packet loss, time 0ms'),\n",
       " (912,\n",
       "  'Sat 01 Aug 2020 03:13:01 PM BST',\n",
       "  '1 packets transmitted, 1 received, 0% packet loss, time 0ms'),\n",
       " (9440,\n",
       "  'Fri 07 Aug 2020 01:21:01 PM BST',\n",
       "  '1 packets transmitted, 0 received, 100% packet loss, time 0ms'),\n",
       " (9445,\n",
       "  'Fri 07 Aug 2020 01:26:01 PM BST',\n",
       "  '1 packets transmitted, 1 received, 0% packet loss, time 0ms'),\n",
       " (9457,\n",
       "  'Fri 07 Aug 2020 01:38:01 PM BST',\n",
       "  '1 packets transmitted, 0 received, 100% packet loss, time 0ms'),\n",
       " (9459,\n",
       "  'Fri 07 Aug 2020 01:40:02 PM BST',\n",
       "  '1 packets transmitted, 1 received, 0% packet loss, time 0ms'),\n",
       " (9483,\n",
       "  'Fri 07 Aug 2020 02:04:01 PM BST',\n",
       "  '1 packets transmitted, 0 received, 100% packet loss, time 0ms'),\n",
       " (9859,\n",
       "  'Fri 07 Aug 2020 08:20:01 PM BST',\n",
       "  '1 packets transmitted, 1 received, 0% packet loss, time 0ms'),\n",
       " (9872,\n",
       "  'Fri 07 Aug 2020 09:33:01 PM CEST',\n",
       "  '1 packets transmitted, 0 received, 100% packet loss, time 0ms'),\n",
       " (9877,\n",
       "  'Fri 07 Aug 2020 09:38:01 PM CEST',\n",
       "  '1 packets transmitted, 1 received, 0% packet loss, time 0ms'),\n",
       " (10323,\n",
       "  'Sat 08 Aug 2020 05:04:01 AM CEST',\n",
       "  '1 packets transmitted, 0 received, 100% packet loss, time 0ms'),\n",
       " (10325,\n",
       "  'Sat 08 Aug 2020 05:06:01 AM CEST',\n",
       "  '1 packets transmitted, 1 received, 0% packet loss, time 0ms'),\n",
       " (10843,\n",
       "  'Sat 08 Aug 2020 01:44:01 PM CEST',\n",
       "  '1 packets transmitted, 0 received, 100% packet loss, time 0ms'),\n",
       " (11310,\n",
       "  'Sat 08 Aug 2020 09:31:01 PM CEST',\n",
       "  '1 packets transmitted, 1 received, 0% packet loss, time 0ms'),\n",
       " (11311,\n",
       "  'Sat 08 Aug 2020 09:32:01 PM CEST',\n",
       "  '1 packets transmitted, 0 received, +1 errors, 100% packet loss, time 0ms'),\n",
       " (11314,\n",
       "  'Sat 08 Aug 2020 09:35:01 PM CEST',\n",
       "  '1 packets transmitted, 1 received, 0% packet loss, time 0ms'),\n",
       " (11315,\n",
       "  'Sat 08 Aug 2020 09:36:02 PM CEST',\n",
       "  '1 packets transmitted, 0 received, 100% packet loss, time 0ms'),\n",
       " (11319,\n",
       "  'Sat 08 Aug 2020 09:40:01 PM CEST',\n",
       "  '1 packets transmitted, 1 received, 0% packet loss, time 0ms'),\n",
       " (12306,\n",
       "  'Sun 09 Aug 2020 02:07:01 PM CEST',\n",
       "  '1 packets transmitted, 0 received, +1 errors, 100% packet loss, time 0ms'),\n",
       " (12690,\n",
       "  'Sun 09 Aug 2020 08:31:01 PM CEST',\n",
       "  '1 packets transmitted, 1 received, 0% packet loss, time 0ms')]"
      ]
     },
     "execution_count": 50,
     "metadata": {},
     "output_type": "execute_result"
    }
   ],
   "source": [
    "changepoints"
   ]
  },
  {
   "cell_type": "code",
   "execution_count": 60,
   "metadata": {},
   "outputs": [
    {
     "name": "stdout",
     "output_type": "stream",
     "text": [
      "Outage from Sat 01 Aug 2020 05:03:01 AM BST to Sat 01 Aug 2020 11:41:01 AM BST (approx 6.62 hours)\n",
      "Outage from Sat 01 Aug 2020 02:59:01 PM BST to Sat 01 Aug 2020 03:13:01 PM BST (approx 0.23 hours)\n",
      "Outage from Fri 07 Aug 2020 01:21:01 PM BST to Fri 07 Aug 2020 01:26:01 PM BST (approx 0.08 hours)\n",
      "Outage from Fri 07 Aug 2020 01:38:01 PM BST to Fri 07 Aug 2020 01:40:02 PM BST (approx 0.03 hours)\n",
      "Outage from Fri 07 Aug 2020 02:04:01 PM BST to Fri 07 Aug 2020 08:20:01 PM BST (approx 6.27 hours)\n",
      "Outage from Fri 07 Aug 2020 09:33:01 PM CEST to Fri 07 Aug 2020 09:38:01 PM CEST (approx 0.08 hours)\n",
      "Outage from Sat 08 Aug 2020 05:04:01 AM CEST to Sat 08 Aug 2020 05:06:01 AM CEST (approx 0.03 hours)\n",
      "Outage from Sat 08 Aug 2020 01:44:01 PM CEST to Sat 08 Aug 2020 09:31:01 PM CEST (approx 7.78 hours)\n",
      "Outage from Sat 08 Aug 2020 09:32:01 PM CEST to Sat 08 Aug 2020 09:35:01 PM CEST (approx 0.05 hours)\n",
      "Outage from Sat 08 Aug 2020 09:36:02 PM CEST to Sat 08 Aug 2020 09:40:01 PM CEST (approx 0.07 hours)\n",
      "Outage from Sun 09 Aug 2020 02:07:01 PM CEST to Sun 09 Aug 2020 08:31:01 PM CEST (approx 6.40 hours)\n"
     ]
    }
   ],
   "source": [
    "for i in range(len(changepoints)):\n",
    "    offset, date, result = changepoints[i]\n",
    "    if is_bad(result):\n",
    "        enddate = changepoints[i+1][1]\n",
    "        minutes = changepoints[i+1][0] - offset\n",
    "        print(\"Outage from %s to %s (approx %2.2f hours)\"%(date, enddate, minutes*1.0/60))"
   ]
  },
  {
   "cell_type": "code",
   "execution_count": null,
   "metadata": {},
   "outputs": [],
   "source": []
  },
  {
   "cell_type": "code",
   "execution_count": null,
   "metadata": {},
   "outputs": [],
   "source": []
  }
 ],
 "metadata": {
  "kernelspec": {
   "display_name": "Python 3",
   "language": "python",
   "name": "python3"
  },
  "language_info": {
   "codemirror_mode": {
    "name": "ipython",
    "version": 3
   },
   "file_extension": ".py",
   "mimetype": "text/x-python",
   "name": "python",
   "nbconvert_exporter": "python",
   "pygments_lexer": "ipython3",
   "version": "3.8.3"
  }
 },
 "nbformat": 4,
 "nbformat_minor": 4
}
