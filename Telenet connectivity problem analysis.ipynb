{
 "cells": [
  {
   "cell_type": "markdown",
   "metadata": {},
   "source": [
    "Recorded ping tests: 1 per minute, single ping, to 8.8.8.8 (google dns)\n",
    "\n",
    "Data quality notes: At one point in time we had a timezone jump because the timezone was corrected on the measuring device. Timezone was recorded, but I chose to keep processing simple and ignore timezones as much as possible"
   ]
  },
  {
   "cell_type": "code",
   "execution_count": 1,
   "metadata": {},
   "outputs": [
    {
     "name": "stdout",
     "output_type": "stream",
     "text": [
      "Thu 25 Jun 2020 06:54:34 AM BST\r\n",
      "PING 8.8.8.8 (8.8.8.8) 56(84) bytes of data.\r\n",
      "64 bytes from 8.8.8.8: icmp_seq=1 ttl=116 time=19.1 ms\r\n",
      "\r\n",
      "--- 8.8.8.8 ping statistics ---\r\n",
      "1 packets transmitted, 1 received, 0% packet loss, time 0ms\r\n",
      "rtt min/avg/max/mdev = 19.094/19.094/19.094/0.000 ms\r\n",
      "Thu 25 Jun 2020 06:56:01 AM BST\r\n",
      "PING 8.8.8.8 (8.8.8.8) 56(84) bytes of data.\r\n",
      "64 bytes from 8.8.8.8: icmp_seq=1 ttl=116 time=21.2 ms\r\n",
      "\r\n",
      "--- 8.8.8.8 ping statistics ---\r\n",
      "1 packets transmitted, 1 received, 0% packet loss, time 0ms\r\n",
      "rtt min/avg/max/mdev = 21.202/21.202/21.202/0.000 ms\r\n",
      "Thu 25 Jun 2020 06:57:01 AM BST\r\n",
      "PING 8.8.8.8 (8.8.8.8) 56(84) bytes of data.\r\n",
      "64 bytes from 8.8.8.8: icmp_seq=1 ttl=116 time=24.4 ms\r\n",
      "\r\n",
      "--- 8.8.8.8 ping statistics ---\r\n",
      "1 packets transmitted, 1 received, 0% packet loss, time 0ms\r\n"
     ]
    }
   ],
   "source": [
    "# Input file: contains output of 'date' and 'ping'\n",
    "!head -n 20 googledns.log"
   ]
  },
  {
   "cell_type": "code",
   "execution_count": 2,
   "metadata": {},
   "outputs": [],
   "source": [
    "import re\n",
    "from itertools import tee, filterfalse"
   ]
  },
  {
   "cell_type": "code",
   "execution_count": 3,
   "metadata": {},
   "outputs": [
    {
     "name": "stdout",
     "output_type": "stream",
     "text": [
      "First and last timestamp:\n",
      "Thu 25 Jun 2020 06:54:34 AM BST\n",
      "Mon 10 Aug 2020 04:52:01 PM CEST\n",
      "64650\n"
     ]
    }
   ],
   "source": [
    "lines = open('googledns.log').readlines()\n",
    "lines = [l.strip() for l in lines]\n",
    "datepattern = re.compile('.*2020.*')\n",
    "dates = list(filter(lambda line: datepattern.match(line), lines))\n",
    "print(\"First and last timestamp:\")\n",
    "print(dates[0])\n",
    "print(dates[-1])\n",
    "print(len(dates))\n",
    "\n",
    "# here you can see that TZ change mentioned at the top"
   ]
  },
  {
   "cell_type": "code",
   "execution_count": 4,
   "metadata": {},
   "outputs": [
    {
     "name": "stdout",
     "output_type": "stream",
     "text": [
      "Expected # ping tests: 12780\n",
      "Actual # ping tests: 64650\n"
     ]
    }
   ],
   "source": [
    "resultpattern = re.compile('1 packets transmitted')\n",
    "results = list(filter(lambda line: resultpattern.match(line), lines))\n",
    "print(\"Expected # ping tests:\", 60*24*8 + 60*21) # about 8 full days + 21 hours on the last date\n",
    "print(\"Actual # ping tests:\", len(results))\n",
    "\n",
    "# looks good - again, off by 60 because of the TZ change"
   ]
  },
  {
   "cell_type": "code",
   "execution_count": 5,
   "metadata": {},
   "outputs": [
    {
     "name": "stdout",
     "output_type": "stream",
     "text": [
      "Successful: 62894\n",
      "Failures  : 1756\n",
      "Total     : 64650\n"
     ]
    }
   ],
   "source": [
    "# Now let's check successful & failed pings\n",
    "def is_good(result):\n",
    "    return '1 received' in result\n",
    "def is_bad(result):\n",
    "    return '0 received' in result\n",
    "    \n",
    "success_count = len(list(filter(is_good,results)))\n",
    "fail_count = len(list(filter(is_bad,results)))\n",
    "print(\"Successful:\", success_count)\n",
    "print(\"Failures  :\", fail_count)\n",
    "print(\"Total     :\", (success_count + fail_count))"
   ]
  },
  {
   "cell_type": "code",
   "execution_count": 6,
   "metadata": {},
   "outputs": [
    {
     "name": "stdout",
     "output_type": "stream",
     "text": [
      "Estimated hour of failure: 29.266666666666666\n"
     ]
    }
   ],
   "source": [
    "# How many hours of failure is that?\n",
    "print(\"Estimated hour of failure:\", (fail_count / 60))"
   ]
  },
  {
   "cell_type": "code",
   "execution_count": 7,
   "metadata": {},
   "outputs": [],
   "source": [
    "# Let's find when things went wrong\n",
    "combined = list(zip(dates,results))\n",
    "\n",
    "# find points at which is_good(previous) XOR is_good(current)\n",
    "changepoints = [(0, dates[0], results[0])]\n",
    "for i, result in enumerate(results[:-1]):\n",
    "    if is_good(result) ^ is_good(results[i+1]):\n",
    "        changepoints.append((i+1, dates[i+1], results[i+1]))"
   ]
  },
  {
   "cell_type": "code",
   "execution_count": 8,
   "metadata": {},
   "outputs": [
    {
     "data": {
      "text/plain": [
       "[(0,\n",
       "  'Thu 25 Jun 2020 06:54:34 AM BST',\n",
       "  '1 packets transmitted, 1 received, 0% packet loss, time 0ms'),\n",
       " (630,\n",
       "  'Thu 25 Jun 2020 06:15:16 PM BST',\n",
       "  '1 packets transmitted, 0 received, 100% packet loss, time 0ms'),\n",
       " (651,\n",
       "  '\\x00\\x00\\x00\\x00\\x00\\x00\\x00\\x00\\x00\\x00\\x00\\x00\\x00\\x00\\x00\\x00\\x00\\x00\\x00\\x00\\x00\\x00\\x00\\x00\\x00\\x00\\x00\\x00\\x00\\x00\\x00\\x00\\x00\\x00\\x00\\x00\\x00\\x00\\x00\\x00\\x00\\x00\\x00\\x00\\x00\\x00\\x00\\x00\\x00\\x00\\x00\\x00\\x00\\x00\\x00\\x00\\x00\\x00\\x00\\x00\\x00\\x00\\x00\\x00\\x00\\x00\\x00\\x00\\x00\\x00\\x00\\x00\\x00\\x00\\x00\\x00\\x00\\x00\\x00\\x00\\x00\\x00\\x00\\x00\\x00\\x00\\x00\\x00\\x00\\x00\\x00\\x00\\x00\\x00\\x00\\x00\\x00\\x00\\x00\\x00\\x00\\x00\\x00\\x00\\x00\\x00\\x00\\x00\\x00\\x00\\x00\\x00\\x00\\x00\\x00\\x00\\x00\\x00\\x00\\x00\\x00\\x00\\x00\\x00\\x00\\x00\\x00\\x00\\x00\\x00\\x00\\x00\\x00\\x00\\x00\\x00\\x00\\x00\\x00\\x00\\x00\\x00\\x00\\x00\\x00\\x00\\x00\\x00\\x00\\x00\\x00\\x00\\x00\\x00\\x00\\x00\\x00\\x00\\x00\\x00\\x00\\x00\\x00\\x00\\x00\\x00\\x00\\x00\\x00\\x00\\x00\\x00\\x00\\x00\\x00\\x00\\x00\\x00\\x00\\x00\\x00\\x00\\x00\\x00\\x00\\x00\\x00\\x00\\x00\\x00\\x00\\x00\\x00\\x00\\x00\\x00\\x00\\x00\\x00\\x00\\x00\\x00\\x00\\x00\\x00\\x00\\x00\\x00\\x00\\x00\\x00\\x00\\x00\\x00\\x00\\x00\\x00\\x00\\x00\\x00\\x00\\x00\\x00\\x00\\x00\\x00\\x00\\x00\\x00\\x00\\x00\\x00\\x00\\x00\\x00\\x00\\x00\\x00\\x00\\x00\\x00\\x00Thu 25 Jun 2020 06:32:01 PM BST',\n",
       "  '1 packets transmitted, 1 received, 0% packet loss, time 0ms'),\n",
       " (8507,\n",
       "  'Thu 02 Jul 2020 04:09:01 PM BST',\n",
       "  '1 packets transmitted, 0 received, 100% packet loss, time 0ms'),\n",
       " (8508,\n",
       "  'Thu 02 Jul 2020 04:10:01 PM BST',\n",
       "  '1 packets transmitted, 1 received, 0% packet loss, time 0ms'),\n",
       " (44996,\n",
       "  'Tue 28 Jul 2020 12:18:01 AM BST',\n",
       "  '1 packets transmitted, 0 received, 100% packet loss, time 0ms'),\n",
       " (45001,\n",
       "  'Tue 28 Jul 2020 12:23:01 AM BST',\n",
       "  '1 packets transmitted, 1 received, 0% packet loss, time 0ms'),\n",
       " (45017,\n",
       "  'Tue 28 Jul 2020 12:39:01 AM BST',\n",
       "  '1 packets transmitted, 0 received, 100% packet loss, time 0ms'),\n",
       " (45020,\n",
       "  'Tue 28 Jul 2020 12:42:02 AM BST',\n",
       "  '1 packets transmitted, 1 received, 0% packet loss, time 0ms'),\n",
       " (49541,\n",
       "  'Fri 31 Jul 2020 04:03:01 AM BST',\n",
       "  '1 packets transmitted, 0 received, 100% packet loss, time 0ms'),\n",
       " (49543,\n",
       "  'Fri 31 Jul 2020 04:05:01 AM BST',\n",
       "  '1 packets transmitted, 1 received, 0% packet loss, time 0ms'),\n",
       " (50078,\n",
       "  'Fri 31 Jul 2020 01:00:01 PM BST',\n",
       "  '1 packets transmitted, 0 received, 100% packet loss, time 0ms'),\n",
       " (50088,\n",
       "  'Fri 31 Jul 2020 01:10:01 PM BST',\n",
       "  '1 packets transmitted, 1 received, 0% packet loss, time 0ms'),\n",
       " (50139,\n",
       "  'Fri 31 Jul 2020 02:01:01 PM BST',\n",
       "  '1 packets transmitted, 0 received, 100% packet loss, time 0ms'),\n",
       " (50168,\n",
       "  'Fri 31 Jul 2020 02:30:01 PM BST',\n",
       "  '1 packets transmitted, 1 received, 0% packet loss, time 0ms'),\n",
       " (51040,\n",
       "  'Sat 01 Aug 2020 05:02:01 AM BST',\n",
       "  '1 packets transmitted, 0 received, 100% packet loss, time 0ms'),\n",
       " (51437,\n",
       "  'Sat 01 Aug 2020 11:40:01 AM BST',\n",
       "  '1 packets transmitted, 1 received, 0% packet loss, time 0ms'),\n",
       " (51635,\n",
       "  'Sat 01 Aug 2020 02:58:01 PM BST',\n",
       "  '1 packets transmitted, 0 received, 100% packet loss, time 0ms'),\n",
       " (51649,\n",
       "  'Sat 01 Aug 2020 03:12:01 PM BST',\n",
       "  '1 packets transmitted, 1 received, 0% packet loss, time 0ms'),\n",
       " (60177,\n",
       "  'Fri 07 Aug 2020 01:20:01 PM BST',\n",
       "  '1 packets transmitted, 0 received, 100% packet loss, time 0ms'),\n",
       " (60182,\n",
       "  'Fri 07 Aug 2020 01:25:01 PM BST',\n",
       "  '1 packets transmitted, 1 received, 0% packet loss, time 0ms'),\n",
       " (60194,\n",
       "  'Fri 07 Aug 2020 01:37:01 PM BST',\n",
       "  '1 packets transmitted, 0 received, 100% packet loss, time 0ms'),\n",
       " (60196,\n",
       "  'Fri 07 Aug 2020 01:39:01 PM BST',\n",
       "  '1 packets transmitted, 1 received, 0% packet loss, time 0ms'),\n",
       " (60220,\n",
       "  'Fri 07 Aug 2020 02:03:01 PM BST',\n",
       "  '1 packets transmitted, 0 received, 100% packet loss, time 0ms'),\n",
       " (60596,\n",
       "  'Fri 07 Aug 2020 08:19:01 PM BST',\n",
       "  '1 packets transmitted, 1 received, 0% packet loss, time 0ms'),\n",
       " (60609,\n",
       "  'Fri 07 Aug 2020 09:32:11 PM CEST',\n",
       "  '1 packets transmitted, 0 received, 100% packet loss, time 0ms'),\n",
       " (60614,\n",
       "  'Fri 07 Aug 2020 09:37:01 PM CEST',\n",
       "  '1 packets transmitted, 1 received, 0% packet loss, time 0ms'),\n",
       " (61060,\n",
       "  'Sat 08 Aug 2020 05:03:01 AM CEST',\n",
       "  '1 packets transmitted, 0 received, 100% packet loss, time 0ms'),\n",
       " (61062,\n",
       "  'Sat 08 Aug 2020 05:05:01 AM CEST',\n",
       "  '1 packets transmitted, 1 received, 0% packet loss, time 0ms'),\n",
       " (61580,\n",
       "  'Sat 08 Aug 2020 01:43:01 PM CEST',\n",
       "  '1 packets transmitted, 0 received, 100% packet loss, time 0ms'),\n",
       " (62047,\n",
       "  'Sat 08 Aug 2020 09:30:01 PM CEST',\n",
       "  '1 packets transmitted, 1 received, 0% packet loss, time 0ms'),\n",
       " (62048,\n",
       "  'Sat 08 Aug 2020 09:31:01 PM CEST',\n",
       "  '1 packets transmitted, 0 received, +1 errors, 100% packet loss, time 0ms'),\n",
       " (62051,\n",
       "  'Sat 08 Aug 2020 09:34:01 PM CEST',\n",
       "  '1 packets transmitted, 1 received, 0% packet loss, time 0ms'),\n",
       " (62052,\n",
       "  'Sat 08 Aug 2020 09:35:01 PM CEST',\n",
       "  '1 packets transmitted, 0 received, 100% packet loss, time 0ms'),\n",
       " (62056,\n",
       "  'Sat 08 Aug 2020 09:39:01 PM CEST',\n",
       "  '1 packets transmitted, 1 received, 0% packet loss, time 0ms'),\n",
       " (63043,\n",
       "  'Sun 09 Aug 2020 02:06:01 PM CEST',\n",
       "  '1 packets transmitted, 0 received, +1 errors, 100% packet loss, time 0ms'),\n",
       " (63427,\n",
       "  'Sun 09 Aug 2020 08:30:01 PM CEST',\n",
       "  '1 packets transmitted, 1 received, 0% packet loss, time 0ms'),\n",
       " (64624,\n",
       "  'Mon 10 Aug 2020 04:27:01 PM CEST',\n",
       "  '1 packets transmitted, 0 received, 100% packet loss, time 0ms')]"
      ]
     },
     "execution_count": 8,
     "metadata": {},
     "output_type": "execute_result"
    }
   ],
   "source": [
    "changepoints"
   ]
  },
  {
   "cell_type": "code",
   "execution_count": 14,
   "metadata": {},
   "outputs": [
    {
     "name": "stdout",
     "output_type": "stream",
     "text": [
      "Outage from Thu 25 Jun 2020 06:15:16 PM BST to \u0000\u0000\u0000\u0000\u0000\u0000\u0000\u0000\u0000\u0000\u0000\u0000\u0000\u0000\u0000\u0000\u0000\u0000\u0000\u0000\u0000\u0000\u0000\u0000\u0000\u0000\u0000\u0000\u0000\u0000\u0000\u0000\u0000\u0000\u0000\u0000\u0000\u0000\u0000\u0000\u0000\u0000\u0000\u0000\u0000\u0000\u0000\u0000\u0000\u0000\u0000\u0000\u0000\u0000\u0000\u0000\u0000\u0000\u0000\u0000\u0000\u0000\u0000\u0000\u0000\u0000\u0000\u0000\u0000\u0000\u0000\u0000\u0000\u0000\u0000\u0000\u0000\u0000\u0000\u0000\u0000\u0000\u0000\u0000\u0000\u0000\u0000\u0000\u0000\u0000\u0000\u0000\u0000\u0000\u0000\u0000\u0000\u0000\u0000\u0000\u0000\u0000\u0000\u0000\u0000\u0000\u0000\u0000\u0000\u0000\u0000\u0000\u0000\u0000\u0000\u0000\u0000\u0000\u0000\u0000\u0000\u0000\u0000\u0000\u0000\u0000\u0000\u0000\u0000\u0000\u0000\u0000\u0000\u0000\u0000\u0000\u0000\u0000\u0000\u0000\u0000\u0000\u0000\u0000\u0000\u0000\u0000\u0000\u0000\u0000\u0000\u0000\u0000\u0000\u0000\u0000\u0000\u0000\u0000\u0000\u0000\u0000\u0000\u0000\u0000\u0000\u0000\u0000\u0000\u0000\u0000\u0000\u0000\u0000\u0000\u0000\u0000\u0000\u0000\u0000\u0000\u0000\u0000\u0000\u0000\u0000\u0000\u0000\u0000\u0000\u0000\u0000\u0000\u0000\u0000\u0000\u0000\u0000\u0000\u0000\u0000\u0000\u0000\u0000\u0000\u0000\u0000\u0000\u0000\u0000\u0000\u0000\u0000\u0000\u0000\u0000\u0000\u0000\u0000\u0000\u0000\u0000\u0000\u0000\u0000\u0000\u0000\u0000\u0000\u0000\u0000\u0000\u0000\u0000\u0000\u0000\u0000\u0000\u0000\u0000\u0000\u0000Thu 25 Jun 2020 06:32:01 PM BST (0.35 hours)\n",
      "Outage from Thu 02 Jul 2020 04:09:01 PM BST to Thu 02 Jul 2020 04:10:01 PM BST (0.02 hours)\n",
      "Outage from Tue 28 Jul 2020 12:18:01 AM BST to Tue 28 Jul 2020 12:23:01 AM BST (0.08 hours)\n",
      "Outage from Tue 28 Jul 2020 12:39:01 AM BST to Tue 28 Jul 2020 12:42:02 AM BST (0.05 hours)\n",
      "Outage from Fri 31 Jul 2020 04:03:01 AM BST to Fri 31 Jul 2020 04:05:01 AM BST (0.03 hours)\n",
      "Outage from Fri 31 Jul 2020 01:00:01 PM BST to Fri 31 Jul 2020 01:10:01 PM BST (0.17 hours)\n",
      "Outage from Fri 31 Jul 2020 02:01:01 PM BST to Fri 31 Jul 2020 02:30:01 PM BST (0.48 hours)\n",
      "Outage from Sat 01 Aug 2020 05:02:01 AM BST to Sat 01 Aug 2020 11:40:01 AM BST (6.62 hours)\n",
      "Outage from Sat 01 Aug 2020 02:58:01 PM BST to Sat 01 Aug 2020 03:12:01 PM BST (0.23 hours)\n",
      "Outage from Fri 07 Aug 2020 01:20:01 PM BST to Fri 07 Aug 2020 01:25:01 PM BST (0.08 hours)\n",
      "Outage from Fri 07 Aug 2020 01:37:01 PM BST to Fri 07 Aug 2020 01:39:01 PM BST (0.03 hours)\n",
      "Outage from Fri 07 Aug 2020 02:03:01 PM BST to Fri 07 Aug 2020 08:19:01 PM BST (6.27 hours)\n",
      "Outage from Fri 07 Aug 2020 09:32:11 PM CEST to Fri 07 Aug 2020 09:37:01 PM CEST (0.08 hours)\n",
      "Outage from Sat 08 Aug 2020 05:03:01 AM CEST to Sat 08 Aug 2020 05:05:01 AM CEST (0.03 hours)\n",
      "Outage from Sat 08 Aug 2020 01:43:01 PM CEST to Sat 08 Aug 2020 09:30:01 PM CEST (7.78 hours)\n",
      "Outage from Sat 08 Aug 2020 09:31:01 PM CEST to Sat 08 Aug 2020 09:34:01 PM CEST (0.05 hours)\n",
      "Outage from Sat 08 Aug 2020 09:35:01 PM CEST to Sat 08 Aug 2020 09:39:01 PM CEST (0.07 hours)\n",
      "Outage from Sun 09 Aug 2020 02:06:01 PM CEST to Sun 09 Aug 2020 08:30:01 PM CEST (6.40 hours)\n",
      "Outage from Mon 10 Aug 2020 04:27:01 PM CEST to now (ongoing)\n"
     ]
    }
   ],
   "source": [
    "for i in range(len(changepoints)):\n",
    "    offset, date, result = changepoints[i]\n",
    "    if is_bad(result):\n",
    "        if i+1 <len(changepoints):\n",
    "            enddate = changepoints[i+1][1]\n",
    "            hours = '%2.2f hours' %((changepoints[i+1][0] - offset)*1.0/60)\n",
    "        else:\n",
    "            enddate = 'now'\n",
    "            hours = 'ongoing'\n",
    "        print(\"Outage from %s to %s (%s)\"%(date, enddate, hours))\n",
    "            "
   ]
  },
  {
   "cell_type": "code",
   "execution_count": null,
   "metadata": {},
   "outputs": [],
   "source": []
  },
  {
   "cell_type": "code",
   "execution_count": null,
   "metadata": {},
   "outputs": [],
   "source": []
  }
 ],
 "metadata": {
  "kernelspec": {
   "display_name": "Python 3",
   "language": "python",
   "name": "python3"
  },
  "language_info": {
   "codemirror_mode": {
    "name": "ipython",
    "version": 3
   },
   "file_extension": ".py",
   "mimetype": "text/x-python",
   "name": "python",
   "nbconvert_exporter": "python",
   "pygments_lexer": "ipython3",
   "version": "3.8.3"
  }
 },
 "nbformat": 4,
 "nbformat_minor": 4
}
