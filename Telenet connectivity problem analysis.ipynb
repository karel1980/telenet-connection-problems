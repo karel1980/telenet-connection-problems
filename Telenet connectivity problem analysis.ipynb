{
 "cells": [
  {
   "cell_type": "markdown",
   "metadata": {},
   "source": [
    "Recorded ping tests: 1 per minute, single ping, to 8.8.8.8 (google dns)\n",
    "\n",
    "Data quality notes: At one point in time we had a timezone jump because the timezone was corrected on the measuring device. Timezone was recorded, but I chose to keep processing simple and ignore timezones as much as possible"
   ]
  },
  {
   "cell_type": "code",
   "execution_count": 1,
   "metadata": {},
   "outputs": [
    {
     "name": "stdout",
     "output_type": "stream",
     "text": [
      "--- 8.8.8.8 ping statistics ---\r\n",
      "1 packets transmitted, 1 received, 0% packet loss, time 0ms\r\n",
      "rtt min/avg/max/mdev = 17.268/17.268/17.268/0.000 ms\r\n",
      "Sat 01 Aug 2020 12:00:01 AM BST\r\n",
      "PING 8.8.8.8 (8.8.8.8) 56(84) bytes of data.\r\n",
      "64 bytes from 8.8.8.8: icmp_seq=1 ttl=117 time=51.9 ms\r\n",
      "\r\n",
      "--- 8.8.8.8 ping statistics ---\r\n",
      "1 packets transmitted, 1 received, 0% packet loss, time 0ms\r\n",
      "rtt min/avg/max/mdev = 51.918/51.918/51.918/0.000 ms\r\n",
      "Sat 01 Aug 2020 12:01:01 AM BST\r\n",
      "PING 8.8.8.8 (8.8.8.8) 56(84) bytes of data.\r\n",
      "64 bytes from 8.8.8.8: icmp_seq=1 ttl=117 time=19.2 ms\r\n",
      "\r\n",
      "--- 8.8.8.8 ping statistics ---\r\n",
      "1 packets transmitted, 1 received, 0% packet loss, time 0ms\r\n",
      "rtt min/avg/max/mdev = 19.151/19.151/19.151/0.000 ms\r\n",
      "Sat 01 Aug 2020 12:02:02 AM BST\r\n",
      "PING 8.8.8.8 (8.8.8.8) 56(84) bytes of data.\r\n",
      "64 bytes from 8.8.8.8: icmp_seq=1 ttl=117 time=20.1 ms\r\n"
     ]
    }
   ],
   "source": [
    "# Input file: contains output of 'date' and 'ping'\n",
    "!head -n 20 googledns.log"
   ]
  },
  {
   "cell_type": "code",
   "execution_count": 18,
   "metadata": {},
   "outputs": [],
   "source": [
    "import re"
   ]
  },
  {
   "cell_type": "code",
   "execution_count": 23,
   "metadata": {},
   "outputs": [
    {
     "name": "stdout",
     "output_type": "stream",
     "text": [
      "First and last timestamp:\n",
      "Sat 01 Aug 2020 12:00:01 AM BST\n",
      "Sun 09 Aug 2020 08:59:01 PM CEST\n"
     ]
    }
   ],
   "source": [
    "lines = open('googledns.log').readlines()\n",
    "lines = [l.strip() for l in lines]\n",
    "datepattern = re.compile('.*2020.*')\n",
    "dates = list(filter(lambda line: datepattern.match(line), lines))\n",
    "print(\"First and last timestamp:\")\n",
    "print(dates[0])\n",
    "print(dates[-1])\n",
    "\n",
    "# here you can see that TZ change mentioned at the top"
   ]
  },
  {
   "cell_type": "code",
   "execution_count": 24,
   "metadata": {},
   "outputs": [
    {
     "name": "stdout",
     "output_type": "stream",
     "text": [
      "Expected # ping tests: 12780\n",
      "Actual # ping tests: 12719\n"
     ]
    }
   ],
   "source": [
    "resultpattern = re.compile('1 packets transmitted')\n",
    "results = list(filter(lambda line: resultpattern.match(line), lines))\n",
    "print(\"Expected # ping tests:\", 60*24*8 + 60*21) # about 8 full days + 21 hours on the last date\n",
    "print(\"Actual # ping tests:\", len(results))\n",
    "\n",
    "# looks good - again, off by 60 because of the TZ change"
   ]
  },
  {
   "cell_type": "code",
   "execution_count": 34,
   "metadata": {},
   "outputs": [
    {
     "name": "stdout",
     "output_type": "stream",
     "text": [
      "Successful: 11060\n",
      "Failures  : 1659\n",
      "Total     : 12719\n"
     ]
    }
   ],
   "source": [
    "# Now let's check successful & failed pings\n",
    "success_count = len(list(filter(lambda result: '1 received' in result,results)))\n",
    "fail_count = len(list(filter(lambda result: '0 received' in result,results)))\n",
    "print(\"Successful:\", success_count)\n",
    "print(\"Failures  :\", fail_count)\n",
    "print(\"Total     :\", (success_count + fail_count))"
   ]
  },
  {
   "cell_type": "code",
   "execution_count": 38,
   "metadata": {},
   "outputs": [
    {
     "name": "stdout",
     "output_type": "stream",
     "text": [
      "Estimated hour of failure: 27.65\n"
     ]
    }
   ],
   "source": [
    "# How many hours of failure is that?\n",
    "print(\"Estimated hour of failure:\", (fail_count / 60))"
   ]
  },
  {
   "cell_type": "code",
   "execution_count": null,
   "metadata": {},
   "outputs": [],
   "source": []
  }
 ],
 "metadata": {
  "kernelspec": {
   "display_name": "Python 3",
   "language": "python",
   "name": "python3"
  },
  "language_info": {
   "codemirror_mode": {
    "name": "ipython",
    "version": 3
   },
   "file_extension": ".py",
   "mimetype": "text/x-python",
   "name": "python",
   "nbconvert_exporter": "python",
   "pygments_lexer": "ipython3",
   "version": "3.8.3"
  }
 },
 "nbformat": 4,
 "nbformat_minor": 4
}
